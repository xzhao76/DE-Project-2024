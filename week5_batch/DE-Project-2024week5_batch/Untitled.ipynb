{
 "cells": [
  {
   "cell_type": "code",
   "execution_count": 2,
   "id": "0e78e91b-838a-494f-bd24-1d3c206bf1ad",
   "metadata": {},
   "outputs": [],
   "source": [
    "import os\n",
    "import pyspark\n",
    "from pyspark.sql import SparkSession"
   ]
  },
  {
   "cell_type": "code",
   "execution_count": 4,
   "id": "5b1ae8d0-13ef-4119-93fe-3ecb27c4e2b9",
   "metadata": {},
   "outputs": [],
   "source": [
    "import os\n",
    "\n",
    "os.environ[\"SPARK_HOME\"] = \"/home/ximin/anaconda3/lib/python3.12/site-packages/pyspark\"\n",
    "os.environ[\"PYSPARK_PYTHON\"] = \"/home/ximin/anaconda3/bin/python\"\n",
    "os.environ[\"PYSPARK_DRIVER_PYTHON\"] = \"jupyter\"\n",
    "os.environ[\"PYSPARK_DRIVER_PYTHON_OPTS\"] = \"notebook\"\n"
   ]
  },
  {
   "cell_type": "code",
   "execution_count": 5,
   "id": "090dfb1a-76f2-4c87-a5f9-175717e62631",
   "metadata": {},
   "outputs": [
    {
     "name": "stderr",
     "output_type": "stream",
     "text": [
      "Setting default log level to \"WARN\".\n",
      "To adjust logging level use sc.setLogLevel(newLevel). For SparkR, use setLogLevel(newLevel).\n",
      "25/03/05 06:48:10 WARN NativeCodeLoader: Unable to load native-hadoop library for your platform... using builtin-java classes where applicable\n"
     ]
    }
   ],
   "source": [
    "spark = SparkSession.builder \\\n",
    "    .master(\"local[*]\") \\\n",
    "    .appName('test') \\\n",
    "    .getOrCreate()"
   ]
  },
  {
   "cell_type": "code",
   "execution_count": 6,
   "id": "7456d34b-9317-4302-95a1-dc756ea06838",
   "metadata": {},
   "outputs": [
    {
     "name": "stdout",
     "output_type": "stream",
     "text": [
      "--2025-03-05 06:48:14--  https://d37ci6vzurychx.cloudfront.net/trip-data/fhvhv_tripdata_2021-01.parquet\n",
      "Resolving d37ci6vzurychx.cloudfront.net (d37ci6vzurychx.cloudfront.net)... 3.163.157.96, 3.163.157.7, 3.163.157.133, ...\n",
      "Connecting to d37ci6vzurychx.cloudfront.net (d37ci6vzurychx.cloudfront.net)|3.163.157.96|:443... connected.\n",
      "HTTP request sent, awaiting response... 200 OK\n",
      "Length: 308924937 (295M) [application/x-www-form-urlencoded]\n",
      "Saving to: ‘fhvhv_tripdata_2021-01.parquet.1’\n",
      "\n",
      "fhvhv_tripdata_2021 100%[===================>] 294.61M  49.7MB/s    in 6.4s    \n",
      "\n",
      "2025-03-05 06:48:21 (46.2 MB/s) - ‘fhvhv_tripdata_2021-01.parquet.1’ saved [308924937/308924937]\n",
      "\n"
     ]
    }
   ],
   "source": [
    "!wget https://d37ci6vzurychx.cloudfront.net/trip-data/fhvhv_tripdata_2021-01.parquet"
   ]
  },
  {
   "cell_type": "code",
   "execution_count": 7,
   "id": "5d0907b0-361e-4e12-8544-6dfbbe743b27",
   "metadata": {},
   "outputs": [
    {
     "name": "stderr",
     "output_type": "stream",
     "text": [
      "                                                                                \r"
     ]
    }
   ],
   "source": [
    "df = spark.read.option(\"header\", \"true\").parquet('fhvhv_tripdata_2021-01.parquet')"
   ]
  },
  {
   "cell_type": "code",
   "execution_count": 8,
   "id": "2afc8264-207b-47e7-8665-5c8d2f44c2cc",
   "metadata": {},
   "outputs": [
    {
     "name": "stderr",
     "output_type": "stream",
     "text": [
      "                                                                                \r"
     ]
    }
   ],
   "source": [
    "# 将 DataFrame 输出为 CSV 文件，保存到当前目录\n",
    "# 合并所有分区为一个，并将数据写入 temp_output 文件夹\n",
    "# 直接输出到当前目录\n",
    "df.write.option(\"header\", \"true\").csv(\"output\", mode=\"overwrite\")"
   ]
  },
  {
   "cell_type": "code",
   "execution_count": 9,
   "id": "44839aa6-cc97-4f24-8043-ff8659e32262",
   "metadata": {},
   "outputs": [],
   "source": [
    "df = spark.read.option(\"header\", \"true\").csv(\"output\")"
   ]
  },
  {
   "cell_type": "code",
   "execution_count": 10,
   "id": "9695516e-36f6-4fdd-86e5-87cf3bc81d18",
   "metadata": {},
   "outputs": [
    {
     "data": {
      "text/plain": [
       "[Row(hvfhs_license_num='HV0003', dispatching_base_num='B02682', originating_base_num='B02682', request_datetime='2021-01-01T00:28:09.000', on_scene_datetime='2021-01-01T00:31:42.000', pickup_datetime='2021-01-01T00:33:44.000', dropoff_datetime='2021-01-01T00:49:07.000', PULocationID='230', DOLocationID='166', trip_miles='5.26', trip_time='923', base_passenger_fare='22.28', tolls='0.0', bcf='0.67', sales_tax='1.98', congestion_surcharge='2.75', airport_fee=None, tips='0.0', driver_pay='14.99', shared_request_flag='N', shared_match_flag='N', access_a_ride_flag=None, wav_request_flag='N', wav_match_flag='N'),\n",
       " Row(hvfhs_license_num='HV0003', dispatching_base_num='B02682', originating_base_num='B02682', request_datetime='2021-01-01T00:45:56.000', on_scene_datetime='2021-01-01T00:55:19.000', pickup_datetime='2021-01-01T00:55:19.000', dropoff_datetime='2021-01-01T01:18:21.000', PULocationID='152', DOLocationID='167', trip_miles='3.65', trip_time='1382', base_passenger_fare='18.36', tolls='0.0', bcf='0.55', sales_tax='1.63', congestion_surcharge='0.0', airport_fee=None, tips='0.0', driver_pay='17.06', shared_request_flag='N', shared_match_flag='N', access_a_ride_flag=None, wav_request_flag='N', wav_match_flag='N'),\n",
       " Row(hvfhs_license_num='HV0003', dispatching_base_num='B02764', originating_base_num='B02764', request_datetime='2021-01-01T00:21:15.000', on_scene_datetime='2021-01-01T00:22:41.000', pickup_datetime='2021-01-01T00:23:56.000', dropoff_datetime='2021-01-01T00:38:05.000', PULocationID='233', DOLocationID='142', trip_miles='3.51', trip_time='849', base_passenger_fare='14.05', tolls='0.0', bcf='0.48', sales_tax='1.25', congestion_surcharge='2.75', airport_fee=None, tips='0.94', driver_pay='12.98', shared_request_flag='N', shared_match_flag='N', access_a_ride_flag=None, wav_request_flag='N', wav_match_flag='N'),\n",
       " Row(hvfhs_license_num='HV0003', dispatching_base_num='B02764', originating_base_num='B02764', request_datetime='2021-01-01T00:39:12.000', on_scene_datetime='2021-01-01T00:42:37.000', pickup_datetime='2021-01-01T00:42:51.000', dropoff_datetime='2021-01-01T00:45:50.000', PULocationID='142', DOLocationID='143', trip_miles='0.74', trip_time='179', base_passenger_fare='7.91', tolls='0.0', bcf='0.24', sales_tax='0.7', congestion_surcharge='2.75', airport_fee=None, tips='0.0', driver_pay='7.41', shared_request_flag='N', shared_match_flag='N', access_a_ride_flag=None, wav_request_flag='N', wav_match_flag='N'),\n",
       " Row(hvfhs_license_num='HV0003', dispatching_base_num='B02764', originating_base_num='B02764', request_datetime='2021-01-01T00:46:11.000', on_scene_datetime='2021-01-01T00:47:17.000', pickup_datetime='2021-01-01T00:48:14.000', dropoff_datetime='2021-01-01T01:08:42.000', PULocationID='143', DOLocationID='78', trip_miles='9.2', trip_time='1228', base_passenger_fare='27.11', tolls='0.0', bcf='0.81', sales_tax='2.41', congestion_surcharge='2.75', airport_fee=None, tips='0.0', driver_pay='22.44', shared_request_flag='N', shared_match_flag='N', access_a_ride_flag=None, wav_request_flag='N', wav_match_flag='N')]"
      ]
     },
     "execution_count": 10,
     "metadata": {},
     "output_type": "execute_result"
    }
   ],
   "source": [
    "df.head(5)"
   ]
  },
  {
   "cell_type": "code",
   "execution_count": 11,
   "id": "612f4bf6-b355-4010-90d8-95439a80b2e1",
   "metadata": {},
   "outputs": [
    {
     "data": {
      "text/plain": [
       "StructType([StructField('hvfhs_license_num', StringType(), True), StructField('dispatching_base_num', StringType(), True), StructField('originating_base_num', StringType(), True), StructField('request_datetime', StringType(), True), StructField('on_scene_datetime', StringType(), True), StructField('pickup_datetime', StringType(), True), StructField('dropoff_datetime', StringType(), True), StructField('PULocationID', StringType(), True), StructField('DOLocationID', StringType(), True), StructField('trip_miles', StringType(), True), StructField('trip_time', StringType(), True), StructField('base_passenger_fare', StringType(), True), StructField('tolls', StringType(), True), StructField('bcf', StringType(), True), StructField('sales_tax', StringType(), True), StructField('congestion_surcharge', StringType(), True), StructField('airport_fee', StringType(), True), StructField('tips', StringType(), True), StructField('driver_pay', StringType(), True), StructField('shared_request_flag', StringType(), True), StructField('shared_match_flag', StringType(), True), StructField('access_a_ride_flag', StringType(), True), StructField('wav_request_flag', StringType(), True), StructField('wav_match_flag', StringType(), True)])"
      ]
     },
     "execution_count": 11,
     "metadata": {},
     "output_type": "execute_result"
    }
   ],
   "source": [
    "df.schema"
   ]
  },
  {
   "cell_type": "code",
   "execution_count": 12,
   "id": "5fd8102f-aa0c-4b7e-873b-6f0a7535fe31",
   "metadata": {},
   "outputs": [
    {
     "name": "stderr",
     "output_type": "stream",
     "text": [
      "                                                                                \r"
     ]
    }
   ],
   "source": [
    "df.coalesce(1).write.option(\"header\", \"true\").csv(\"merged_output\", mode=\"overwrite\")"
   ]
  },
  {
   "cell_type": "code",
   "execution_count": 21,
   "id": "deb1aa48-4a48-4d5e-a472-26aaeb537533",
   "metadata": {},
   "outputs": [
    {
     "name": "stdout",
     "output_type": "stream",
     "text": [
      "head: error reading 'fhvhv_tripdata_2021-01.csv': Is a directory\n"
     ]
    }
   ],
   "source": [
    "!head -n 101 fhvhv_tripdata_2021-01.csv > head.csv"
   ]
  },
  {
   "cell_type": "code",
   "execution_count": 22,
   "id": "8d720590-64a5-440c-96b7-2bd22dad4178",
   "metadata": {},
   "outputs": [
    {
     "name": "stdout",
     "output_type": "stream",
     "text": [
      "fhvhv_tripdata_2021-01.csv is not a valid file or is a directory.\n"
     ]
    }
   ],
   "source": [
    "import os\n",
    "\n",
    "file_path = 'fhvhv_tripdata_2021-01.csv'\n",
    "if os.path.isfile(file_path):\n",
    "    print(f\"{file_path} is a valid file.\")\n",
    "else:\n",
    "    print(f\"{file_path} is not a valid file or is a directory.\")"
   ]
  },
  {
   "cell_type": "code",
   "execution_count": 1,
   "id": "7b5377ac-f08e-4bbb-bd7a-f88fafcee890",
   "metadata": {},
   "outputs": [
    {
     "ename": "NameError",
     "evalue": "name 'df' is not defined",
     "output_type": "error",
     "traceback": [
      "\u001b[0;31m---------------------------------------------------------------------------\u001b[0m",
      "\u001b[0;31mNameError\u001b[0m                                 Traceback (most recent call last)",
      "Cell \u001b[0;32mIn[1], line 1\u001b[0m\n\u001b[0;32m----> 1\u001b[0m df\u001b[38;5;241m.\u001b[39mhead()\n",
      "\u001b[0;31mNameError\u001b[0m: name 'df' is not defined"
     ]
    }
   ],
   "source": [
    "df.head()"
   ]
  },
  {
   "cell_type": "code",
   "execution_count": 14,
   "id": "169baf41-1842-4371-bb83-8942e9c4f33d",
   "metadata": {},
   "outputs": [],
   "source": [
    "df = df.repartition(24)"
   ]
  },
  {
   "cell_type": "code",
   "execution_count": 15,
   "id": "ed2a66f5-372b-4d89-a49d-30851250cb4a",
   "metadata": {},
   "outputs": [
    {
     "name": "stderr",
     "output_type": "stream",
     "text": [
      "                                                                                \r"
     ]
    }
   ],
   "source": [
    "df.write.parquet('fhvhv/2021/01')"
   ]
  },
  {
   "cell_type": "code",
   "execution_count": 16,
   "id": "7a245c6f-fa41-436d-94b5-20a0c841fcbd",
   "metadata": {},
   "outputs": [],
   "source": [
    "df = spark.read.parquet('fhvhv/2021/01')"
   ]
  },
  {
   "cell_type": "code",
   "execution_count": 18,
   "id": "d72f9344-3cb6-49c5-822d-c403a8a86ada",
   "metadata": {},
   "outputs": [
    {
     "name": "stdout",
     "output_type": "stream",
     "text": [
      "root\n",
      " |-- hvfhs_license_num: string (nullable = true)\n",
      " |-- dispatching_base_num: string (nullable = true)\n",
      " |-- originating_base_num: string (nullable = true)\n",
      " |-- request_datetime: string (nullable = true)\n",
      " |-- on_scene_datetime: string (nullable = true)\n",
      " |-- pickup_datetime: string (nullable = true)\n",
      " |-- dropoff_datetime: string (nullable = true)\n",
      " |-- PULocationID: string (nullable = true)\n",
      " |-- DOLocationID: string (nullable = true)\n",
      " |-- trip_miles: string (nullable = true)\n",
      " |-- trip_time: string (nullable = true)\n",
      " |-- base_passenger_fare: string (nullable = true)\n",
      " |-- tolls: string (nullable = true)\n",
      " |-- bcf: string (nullable = true)\n",
      " |-- sales_tax: string (nullable = true)\n",
      " |-- congestion_surcharge: string (nullable = true)\n",
      " |-- airport_fee: string (nullable = true)\n",
      " |-- tips: string (nullable = true)\n",
      " |-- driver_pay: string (nullable = true)\n",
      " |-- shared_request_flag: string (nullable = true)\n",
      " |-- shared_match_flag: string (nullable = true)\n",
      " |-- access_a_ride_flag: string (nullable = true)\n",
      " |-- wav_request_flag: string (nullable = true)\n",
      " |-- wav_match_flag: string (nullable = true)\n",
      "\n"
     ]
    }
   ],
   "source": [
    "df.printSchema()"
   ]
  },
  {
   "cell_type": "code",
   "execution_count": 22,
   "id": "f0b7ee5d-864e-4af3-9913-f24141d89a69",
   "metadata": {},
   "outputs": [
    {
     "data": {
      "text/plain": [
       "[Row(pickup_datetime='2021-01-01T20:18:41.000', dropoff_datetime='2021-01-01T20:26:44.000', PULocationID='258', DOLocationID='180'),\n",
       " Row(pickup_datetime='2021-01-01T00:21:15.000', dropoff_datetime='2021-01-01T00:34:18.000', PULocationID='167', DOLocationID='220'),\n",
       " Row(pickup_datetime='2021-01-01T18:44:50.000', dropoff_datetime='2021-01-01T18:50:06.000', PULocationID='232', DOLocationID='148'),\n",
       " Row(pickup_datetime='2021-01-01T21:16:05.000', dropoff_datetime='2021-01-01T21:24:26.000', PULocationID='35', DOLocationID='39'),\n",
       " Row(pickup_datetime='2021-01-02T18:50:26.000', dropoff_datetime='2021-01-02T19:04:54.000', PULocationID='151', DOLocationID='43')]"
      ]
     },
     "execution_count": 22,
     "metadata": {},
     "output_type": "execute_result"
    }
   ],
   "source": [
    "df.select('pickup_datetime', 'dropoff_datetime', 'PULocationID', 'DOLocationID')\\\n",
    "  .filter(df.hvfhs_license_num == 'HV0003').take(5)\n",
    "    "
   ]
  },
  {
   "cell_type": "code",
   "execution_count": 24,
   "id": "95ec5310-d317-44ee-9df9-b7d11bdd2344",
   "metadata": {},
   "outputs": [],
   "source": [
    "from pyspark.sql import functions as F"
   ]
  },
  {
   "cell_type": "code",
   "execution_count": null,
   "id": "fbccdfbe-c8a0-4de9-af5d-be73cdb3564d",
   "metadata": {},
   "outputs": [],
   "source": [
    "F.to_date()"
   ]
  },
  {
   "cell_type": "code",
   "execution_count": 30,
   "id": "19d2397c-bd89-467e-964b-9593226ae24f",
   "metadata": {},
   "outputs": [],
   "source": [
    "def crazy_stuff(base_num):\n",
    "    num = int(base_num[1:])\n",
    "    if num % 7 == 0:\n",
    "        return f's/{num:03x}'\n",
    "    elif num % 3 == 0:\n",
    "        return f'a/{num:03x}'\n",
    "    else:\n",
    "        return f'e/{num:03x}'"
   ]
  },
  {
   "cell_type": "code",
   "execution_count": 32,
   "id": "46b5375a-80e2-44bf-bf7b-c49eb52b7215",
   "metadata": {},
   "outputs": [],
   "source": [
    "crazy_stuff_udf = F.udf(crazy_stuff)"
   ]
  },
  {
   "cell_type": "code",
   "execution_count": 34,
   "id": "e35c07cd-0bb0-4881-bca5-ed06f01789ef",
   "metadata": {},
   "outputs": [
    {
     "name": "stderr",
     "output_type": "stream",
     "text": [
      "[Stage 15:>                                                         (0 + 1) / 1]\r"
     ]
    },
    {
     "name": "stdout",
     "output_type": "stream",
     "text": [
      "+-------+-----------+------------+------------+------------+\n",
      "|base_id|pickup_date|dropoff_date|PULocationID|DOLocationID|\n",
      "+-------+-----------+------------+------------+------------+\n",
      "|  e/b35| 2021-01-01|  2021-01-01|         258|         180|\n",
      "|  e/b30| 2021-01-01|  2021-01-01|         167|         220|\n",
      "|  e/b30| 2021-01-01|  2021-01-01|         232|         148|\n",
      "|  s/acd| 2021-01-01|  2021-01-01|          35|          39|\n",
      "|  e/9ce| 2021-01-02|  2021-01-02|          17|          49|\n",
      "|  e/b30| 2021-01-02|  2021-01-02|         151|          43|\n",
      "|  e/b35| 2021-01-01|  2021-01-01|         259|         169|\n",
      "|  e/9ce| 2021-01-01|  2021-01-01|          61|         188|\n",
      "|  e/b30| 2021-01-01|  2021-01-01|         235|         169|\n",
      "|  e/acc| 2021-01-01|  2021-01-01|          37|          36|\n",
      "|  e/9ce| 2021-01-02|  2021-01-02|         121|         196|\n",
      "|  e/9ce| 2021-01-01|  2021-01-01|         216|          61|\n",
      "|  e/a39| 2021-01-02|  2021-01-02|           7|         263|\n",
      "|  e/b3e| 2021-01-02|  2021-01-02|          79|         144|\n",
      "|  e/acc| 2021-01-01|  2021-01-01|         260|         127|\n",
      "|  e/9ce| 2021-01-01|  2021-01-01|         166|         152|\n",
      "|  s/acd| 2021-01-02|  2021-01-02|           7|         226|\n",
      "|  e/a39| 2021-01-01|  2021-01-01|         255|          97|\n",
      "|  s/b36| 2021-01-02|  2021-01-02|          76|          65|\n",
      "|  s/b44| 2021-01-01|  2021-01-01|         212|          47|\n",
      "+-------+-----------+------------+------------+------------+\n",
      "only showing top 20 rows\n",
      "\n"
     ]
    },
    {
     "name": "stderr",
     "output_type": "stream",
     "text": [
      "                                                                                \r"
     ]
    }
   ],
   "source": [
    "df.withColumn('pickup_date', F.to_date(df.pickup_datetime))\\\n",
    "  .withColumn('dropoff_date', F.to_date(df.dropoff_datetime))\\\n",
    "  .withColumn('base_id', crazy_stuff_udf(df.dispatching_base_num))\\\n",
    "  .select('base_id','pickup_date', 'dropoff_date', 'PULocationID', 'DOLocationID')\\\n",
    "  .show()"
   ]
  },
  {
   "cell_type": "code",
   "execution_count": null,
   "id": "99ce08e5-02d2-4bcc-8d4d-e46d5156d4d2",
   "metadata": {},
   "outputs": [],
   "source": []
  }
 ],
 "metadata": {
  "kernelspec": {
   "display_name": "Python 3 (ipykernel)",
   "language": "python",
   "name": "python3"
  },
  "language_info": {
   "codemirror_mode": {
    "name": "ipython",
    "version": 3
   },
   "file_extension": ".py",
   "mimetype": "text/x-python",
   "name": "python",
   "nbconvert_exporter": "python",
   "pygments_lexer": "ipython3",
   "version": "3.12.7"
  }
 },
 "nbformat": 4,
 "nbformat_minor": 5
}
